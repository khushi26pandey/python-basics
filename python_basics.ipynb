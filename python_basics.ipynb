{
  "nbformat": 4,
  "nbformat_minor": 0,
  "metadata": {
    "colab": {
      "provenance": []
    },
    "kernelspec": {
      "name": "python3",
      "display_name": "Python 3"
    },
    "language_info": {
      "name": "python"
    }
  },
  "cells": [
    {
      "cell_type": "code",
      "execution_count": null,
      "metadata": {
        "id": "7JIlYElZQZjW"
      },
      "outputs": [],
      "source": []
    },
    {
      "cell_type": "markdown",
      "source": [
        "python basics\n",
        "\n",
        "Q1- what is python, and why is it popular?\n",
        "\n",
        "ans- python is a programming language which is used to give instruction to   computer and it is popular because\n",
        "1. it is easy to use language.\n",
        "2. it contain a lot of labraries.\n",
        "3. used versatlity\n",
        "4. widely used in industry.\n",
        "5. easy to learn and open source.\n",
        "\n",
        "Q2- what is a interprter in python ?\n",
        "ans- It is a specific  way to write python code so that it become more\n",
        "     readable.\n",
        "\n",
        "\n",
        "Q3- what are pre defined keyword in python?\n",
        "\n",
        "ans- pre defined keywords have special meaning and purpose .\n",
        "   keywords can never be changed it stay fixed.\n",
        "\n",
        "Q4- can keywords be used as variable names ?\n",
        "\n",
        " ans - no, we cannot use keyword as variable name .\n",
        "\n",
        "Q5-  What is mutability in Python ?\n",
        "\n",
        "ans-mutability means something we can change after creation.\n",
        "  so, python have this mutable object can change and immutable cannot.\n",
        "\n",
        "Q6- Why are lists mutable, but tuples are immutable  ?\n",
        "\n",
        " ans - list are designed to changed so it is mutable . we can also say that\n",
        "  it is dynamic.\n",
        "\n",
        "  but tuple are immutable because it does not have that function.\n",
        "\n",
        "  Q7- What is the difference between “==” and “is” operators in Python?\n",
        "\n",
        "  ans- \"==\" means equals to\n",
        "      \" is \" used to see or identify that any object is present in memory block.\n",
        "\n",
        "Q8- What are logical operators in Python?\n",
        "\n",
        "ans- logical operator \"are\" and , \"or\" , \"not\"\n",
        "\n",
        "Q9- What is type casting in Python?\n",
        "\n",
        "ans- type casting is used to convert one data type to another.\n",
        "\n",
        "Q10- What is the difference between implicit and explicit type casting?\n",
        "\n",
        "ans - implicit type casting is done automatically by python.\n",
        "\n",
        "   explicit type casting is done manually by function.\n",
        "\n",
        "Q11- What is the purpose of conditional statements in Python?\n",
        "\n",
        "ans- to execute code based on condition.\n",
        "\n",
        "Q12- How does the elif statement work?\n",
        "\n",
        " ans - elif statement is used to give multiple condition.\n",
        "\n",
        "Q13- What is the difference between for and while loops?\n",
        "\n",
        "ans - for - used for number of iteration.\n",
        "     while - condition depend on runtime.\n",
        "\n",
        "Q14- Describe a scenario where a while loop is more suitable than a for loop.\n",
        "\n",
        "ans-\n",
        "\n",
        "\n",
        "\n",
        "\n"
      ],
      "metadata": {
        "id": "KEvyXXw8TlSz"
      }
    },
    {
      "cell_type": "code",
      "source": [
        "# Practical Questions\n",
        "\n",
        "  #Q1- Write a Python program to print \"Hello, World!\".\n"
      ],
      "metadata": {
        "id": "zT2EUoQdd6OB"
      },
      "execution_count": null,
      "outputs": []
    },
    {
      "cell_type": "code",
      "source": [
        "print(\"Hello world!\")\n"
      ],
      "metadata": {
        "colab": {
          "base_uri": "https://localhost:8080/"
        },
        "id": "-n4lQbMQde5Q",
        "outputId": "6f22b4c8-665e-41f7-b568-aaa865eb8011"
      },
      "execution_count": 1,
      "outputs": [
        {
          "output_type": "stream",
          "name": "stdout",
          "text": [
            "Hello world!\n"
          ]
        }
      ]
    },
    {
      "cell_type": "code",
      "source": [
        "# Q 2-Write a Python program that displays your name and age.\n",
        "\n",
        "name= \"khushi\"\n",
        "age=20\n",
        "print(name,age)"
      ],
      "metadata": {
        "colab": {
          "base_uri": "https://localhost:8080/"
        },
        "id": "GVc_OluzecHU",
        "outputId": "7b68affe-33d0-4ea3-cdda-91d7996dac08"
      },
      "execution_count": 2,
      "outputs": [
        {
          "output_type": "stream",
          "name": "stdout",
          "text": [
            "khushi 20\n"
          ]
        }
      ]
    },
    {
      "cell_type": "code",
      "source": [
        "#Q3- Write code to print all the pre-defined keywords in Python using the keyword library.\n",
        "help('keywords')\n"
      ],
      "metadata": {
        "colab": {
          "base_uri": "https://localhost:8080/"
        },
        "id": "g6E1on63e_u2",
        "outputId": "4f67bd5f-5b27-48fe-bf3a-f0d4c9cd04dc"
      },
      "execution_count": 3,
      "outputs": [
        {
          "output_type": "stream",
          "name": "stdout",
          "text": [
            "\n",
            "Here is a list of the Python keywords.  Enter any keyword to get more help.\n",
            "\n",
            "False               class               from                or\n",
            "None                continue            global              pass\n",
            "True                def                 if                  raise\n",
            "and                 del                 import              return\n",
            "as                  elif                in                  try\n",
            "assert              else                is                  while\n",
            "async               except              lambda              with\n",
            "await               finally             nonlocal            yield\n",
            "break               for                 not                 \n",
            "\n"
          ]
        }
      ]
    },
    {
      "cell_type": "code",
      "source": [
        "#Q4- Write a program that checks if a given word is a Python keyword.\n",
        "a=input(\"enter a word\")\n",
        "print(keyword.iskeyword(a))"
      ],
      "metadata": {
        "colab": {
          "base_uri": "https://localhost:8080/",
          "height": 193
        },
        "id": "EX1CA0QjfRlL",
        "outputId": "c69607c6-4551-43b2-b005-d3119c50ccac"
      },
      "execution_count": 4,
      "outputs": [
        {
          "name": "stdout",
          "output_type": "stream",
          "text": [
            "enter a wordfor\n"
          ]
        },
        {
          "output_type": "error",
          "ename": "NameError",
          "evalue": "name 'keyword' is not defined",
          "traceback": [
            "\u001b[0;31m---------------------------------------------------------------------------\u001b[0m",
            "\u001b[0;31mNameError\u001b[0m                                 Traceback (most recent call last)",
            "\u001b[0;32m/tmp/ipython-input-4-4288513615.py\u001b[0m in \u001b[0;36m<cell line: 0>\u001b[0;34m()\u001b[0m\n\u001b[1;32m      1\u001b[0m \u001b[0;31m#Q4- Write a program that checks if a given word is a Python keyword.\u001b[0m\u001b[0;34m\u001b[0m\u001b[0;34m\u001b[0m\u001b[0m\n\u001b[1;32m      2\u001b[0m \u001b[0ma\u001b[0m\u001b[0;34m=\u001b[0m\u001b[0minput\u001b[0m\u001b[0;34m(\u001b[0m\u001b[0;34m\"enter a word\"\u001b[0m\u001b[0;34m)\u001b[0m\u001b[0;34m\u001b[0m\u001b[0;34m\u001b[0m\u001b[0m\n\u001b[0;32m----> 3\u001b[0;31m \u001b[0mprint\u001b[0m\u001b[0;34m(\u001b[0m\u001b[0mkeyword\u001b[0m\u001b[0;34m.\u001b[0m\u001b[0miskeyword\u001b[0m\u001b[0;34m(\u001b[0m\u001b[0ma\u001b[0m\u001b[0;34m)\u001b[0m\u001b[0;34m)\u001b[0m\u001b[0;34m\u001b[0m\u001b[0;34m\u001b[0m\u001b[0m\n\u001b[0m",
            "\u001b[0;31mNameError\u001b[0m: name 'keyword' is not defined"
          ]
        }
      ]
    },
    {
      "cell_type": "code",
      "source": [
        "#Q5- Create a list and tuple in Python, and demonstrate how attempting to change an element works differently for each.\n",
        "#list\n",
        "list_a=[1,25,23,56,89]\n",
        "list_a[0]=46\n",
        "print(list_a)"
      ],
      "metadata": {
        "colab": {
          "base_uri": "https://localhost:8080/"
        },
        "id": "_zjjPo3Si2LJ",
        "outputId": "0e1fa14f-bf8b-4200-84b6-1ae00103b31c"
      },
      "execution_count": 5,
      "outputs": [
        {
          "output_type": "stream",
          "name": "stdout",
          "text": [
            "[46, 25, 23, 56, 89]\n"
          ]
        }
      ]
    },
    {
      "cell_type": "code",
      "source": [
        "#tuple\n",
        "tuple_b=(1,12,45,48,63)\n",
        "tuple_b(2)=89\n",
        "print(tuple_b)"
      ],
      "metadata": {
        "colab": {
          "base_uri": "https://localhost:8080/",
          "height": 106
        },
        "id": "BsPxBSlAjn-0",
        "outputId": "49959071-563b-4b26-ac8a-28a92a7c13a2"
      },
      "execution_count": 6,
      "outputs": [
        {
          "output_type": "error",
          "ename": "SyntaxError",
          "evalue": "cannot assign to function call here. Maybe you meant '==' instead of '='? (ipython-input-6-3730595854.py, line 3)",
          "traceback": [
            "\u001b[0;36m  File \u001b[0;32m\"/tmp/ipython-input-6-3730595854.py\"\u001b[0;36m, line \u001b[0;32m3\u001b[0m\n\u001b[0;31m    tuple_b(2)=89\u001b[0m\n\u001b[0m    ^\u001b[0m\n\u001b[0;31mSyntaxError\u001b[0m\u001b[0;31m:\u001b[0m cannot assign to function call here. Maybe you meant '==' instead of '='?\n"
          ]
        }
      ]
    },
    {
      "cell_type": "code",
      "source": [
        "# so we can see above mutability cannot work with tuple.\n"
      ],
      "metadata": {
        "id": "9pqDM5BBj9UQ"
      },
      "execution_count": null,
      "outputs": []
    },
    {
      "cell_type": "code",
      "source": [
        "#Q6 -Write a function to demonstrate the behavior of mutable and immutable arguments\n",
        ""
      ],
      "metadata": {
        "id": "jIY7wuz4kGqq"
      },
      "execution_count": null,
      "outputs": []
    },
    {
      "cell_type": "code",
      "source": [
        "#Q7- Write a program that performs basic arithmetic operations on two user-input numbers.\n",
        "\n",
        "# arithmetic operators\n",
        "\n",
        "a=int(input(\"enter first number\"))\n",
        "b=int(input(\"enter second number\"))\n",
        "\n",
        "print(\"add :\",a+b)\n",
        "print(\"sub :\",a-b)\n",
        "print(\"multiplication :\",a*b)\n",
        "print(\"division :\", a/b)"
      ],
      "metadata": {
        "colab": {
          "base_uri": "https://localhost:8080/"
        },
        "id": "NIJNb8zRkXLG",
        "outputId": "f4e6f9e5-9e6c-45f8-d2d4-26353b1fb984"
      },
      "execution_count": 7,
      "outputs": [
        {
          "output_type": "stream",
          "name": "stdout",
          "text": [
            "enter first number45\n",
            "enter second number58\n",
            "add : 103\n",
            "sub : -13\n",
            "multiplication : 2610\n",
            "division : 0.7758620689655172\n"
          ]
        }
      ]
    },
    {
      "cell_type": "code",
      "source": [
        "\n",
        "#Q8- Write a program to demonstrate the use of logical operators.\n",
        "a=True\n",
        "b=False\n",
        "\n",
        "print(a and b )\n",
        "print( a or b )\n",
        "print(not a)"
      ],
      "metadata": {
        "colab": {
          "base_uri": "https://localhost:8080/"
        },
        "id": "R8JXND8YlZcL",
        "outputId": "037441b4-dea1-4f97-e1db-9cb214a0c336"
      },
      "execution_count": 8,
      "outputs": [
        {
          "output_type": "stream",
          "name": "stdout",
          "text": [
            "False\n",
            "True\n",
            "False\n"
          ]
        }
      ]
    },
    {
      "cell_type": "markdown",
      "source": [],
      "metadata": {
        "id": "f5xh2DuXSH5E"
      }
    },
    {
      "cell_type": "code",
      "source": [
        "#Q9-  Write a Python program to convert user input from string to integer, float, and boolean types\n",
        "a=input(\"enter a number\")\n",
        "\n",
        "print(int(a))\n",
        "print(float(a))\n",
        "print(bool(a))"
      ],
      "metadata": {
        "colab": {
          "base_uri": "https://localhost:8080/"
        },
        "id": "-Kn8AaS0mSZc",
        "outputId": "dd6697ee-8ec7-4351-909e-21f69c0c5d2d"
      },
      "execution_count": 9,
      "outputs": [
        {
          "output_type": "stream",
          "name": "stdout",
          "text": [
            "enter a number12\n",
            "12\n",
            "12.0\n",
            "True\n"
          ]
        }
      ]
    },
    {
      "cell_type": "code",
      "source": [
        "#Q10- Write code to demonstrate type casting with list elements.\n",
        "\n",
        "a=[1,2,3,4,5,6]\n"
      ],
      "metadata": {
        "id": "NBAUkfdOnAhc"
      },
      "execution_count": null,
      "outputs": []
    },
    {
      "cell_type": "code",
      "source": [
        "#Q11-. Write a program that checks if a number is positive, negative, or zero.\n",
        "\n",
        "a=int(input(\"enter a number \"))\n",
        "if a>0:\n",
        "  print(\"positive\")\n",
        "elif a<0:\n",
        "  print(\"negative\")\n",
        "\n",
        "else:\n",
        "  print(\"zero\")\n",
        "\n"
      ],
      "metadata": {
        "colab": {
          "base_uri": "https://localhost:8080/"
        },
        "id": "2Q91okHYoS8g",
        "outputId": "f25c3fb7-e38f-42a8-cd13-1c78927d2609"
      },
      "execution_count": 11,
      "outputs": [
        {
          "output_type": "stream",
          "name": "stdout",
          "text": [
            "enter a number 15\n",
            "positive\n"
          ]
        }
      ]
    },
    {
      "cell_type": "code",
      "source": [
        "#Q12-  Write a for loop to print numbers from 1 to 10.\n",
        "for i in range(1,11):\n",
        "  print(i)"
      ],
      "metadata": {
        "colab": {
          "base_uri": "https://localhost:8080/"
        },
        "id": "c2GXqTAspCm6",
        "outputId": "36994314-79e2-4bbe-a172-12ccd63bf1b0"
      },
      "execution_count": 12,
      "outputs": [
        {
          "output_type": "stream",
          "name": "stdout",
          "text": [
            "1\n",
            "2\n",
            "3\n",
            "4\n",
            "5\n",
            "6\n",
            "7\n",
            "8\n",
            "9\n",
            "10\n"
          ]
        }
      ]
    },
    {
      "cell_type": "code",
      "source": [
        "#Q13-Write a Python program to find the sum of all even numbers between 1 and 50.\n",
        "\n",
        "a= 0\n",
        "for i in range(2,51,2):\n",
        "  a+= i\n",
        "print(\"sum\",a)\n",
        "\n",
        "\n",
        "\n"
      ],
      "metadata": {
        "colab": {
          "base_uri": "https://localhost:8080/"
        },
        "id": "ZdECYEHBpd8R",
        "outputId": "92a419c3-29e8-4ae5-8b2c-648d14051a81"
      },
      "execution_count": 13,
      "outputs": [
        {
          "output_type": "stream",
          "name": "stdout",
          "text": [
            "sum 650\n"
          ]
        }
      ]
    },
    {
      "cell_type": "code",
      "source": [
        "\n",
        "#Q14  Write a program to reverse a string using a while loop.\n",
        "\n",
        " a= \"khushi\"\n",
        " i=len(a) -1\n",
        " reverse=\" \"\n",
        " while i>=0:\n",
        "  reverse += a[i]\n",
        "  i-=1\n",
        "  print(reverse)\n",
        "\n"
      ],
      "metadata": {
        "colab": {
          "base_uri": "https://localhost:8080/",
          "height": 106
        },
        "id": "vxUVngjwqK3I",
        "outputId": "d27f32de-6a36-4ef6-a383-07148e6f95dd"
      },
      "execution_count": 14,
      "outputs": [
        {
          "output_type": "error",
          "ename": "IndentationError",
          "evalue": "unexpected indent (ipython-input-14-1814875704.py, line 3)",
          "traceback": [
            "\u001b[0;36m  File \u001b[0;32m\"/tmp/ipython-input-14-1814875704.py\"\u001b[0;36m, line \u001b[0;32m3\u001b[0m\n\u001b[0;31m    a= \"khushi\"\u001b[0m\n\u001b[0m    ^\u001b[0m\n\u001b[0;31mIndentationError\u001b[0m\u001b[0;31m:\u001b[0m unexpected indent\n"
          ]
        }
      ]
    },
    {
      "cell_type": "code",
      "source": [
        "#Q15  Write a Python program to calculate the factorial of a number provided by the user using a while loop.\n",
        "\n",
        "b=int(input(\"enter a number :\"))\n",
        "fac= 1\n",
        "while b>0:\n",
        "  fac*=b\n",
        "  b-= 1\n",
        "\n",
        "print(\"factorial :\",fac)\n"
      ],
      "metadata": {
        "colab": {
          "base_uri": "https://localhost:8080/"
        },
        "id": "DMz2C2CBriQp",
        "outputId": "7eb3a5ea-90ad-4e82-a5fa-aa3eb49ea91b"
      },
      "execution_count": 15,
      "outputs": [
        {
          "output_type": "stream",
          "name": "stdout",
          "text": [
            "enter a number :23\n",
            "factorial : 25852016738884976640000\n"
          ]
        }
      ]
    }
  ]
}